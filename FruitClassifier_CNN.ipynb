{
 "cells": [
  {
   "cell_type": "code",
   "execution_count": 1,
   "id": "bff9a142",
   "metadata": {},
   "outputs": [],
   "source": [
    "import PIL\n",
    "from os import listdir\n",
    "from PIL import Image\n",
    "\n",
    "import numpy as np\n",
    "import cv2\n",
    "\n",
    "import sys\n",
    "import tensorflow as tf\n",
    "import matplotlib.pyplot as plt\n",
    "from sklearn.preprocessing import LabelEncoder"
   ]
  },
  {
   "cell_type": "code",
   "execution_count": 2,
   "id": "6b0aaee4",
   "metadata": {},
   "outputs": [],
   "source": [
    "#Image-size\n",
    "size = 150\n",
    "train_data = 'images/train/'\n",
    "test_data = 'images/test/'"
   ]
  },
  {
   "cell_type": "code",
   "execution_count": 3,
   "id": "c70b84d2",
   "metadata": {},
   "outputs": [],
   "source": [
    "#Load the images from the folder\n",
    "def load_image(path): \n",
    "    X = []\n",
    "    Y = []\n",
    "    for filename in listdir(path):\n",
    "        # load image\n",
    "        image = cv2.imread(path + filename)          \n",
    "        img_resize = cv2.resize(image, (size, size))    \n",
    "        X.append(np.asarray(img_resize)) \n",
    "        \n",
    "        if filename.endswith(\".jpg\"):\n",
    "            Y.append(filename.split(\"_\")[0])               \n",
    "        \n",
    "    return X, Y"
   ]
  },
  {
   "cell_type": "code",
   "execution_count": 4,
   "id": "fc6c272d",
   "metadata": {},
   "outputs": [],
   "source": [
    "#Process the data before traning\n",
    "def preprocess(x_train, y_train, x_test, y_test):\n",
    "    #x_train = np.reshape(x_train, (x_train.shape[0], size, size, 3))\n",
    "    #x_test = np.reshape(x_test, (x_test.shape[0], size, size, 3))\n",
    "    x_train = x_train / 255\n",
    "    x_test = x_test / 255  \n",
    "    \n",
    "    encoder = LabelEncoder()\n",
    "    y_train = encoder.fit_transform(y_train)\n",
    "    y_train = tf.keras.utils.to_categorical(y_train, 4)\n",
    "    \n",
    "    y_test = encoder.fit_transform(y_test)\n",
    "    y_test = tf.keras.utils.to_categorical(y_test, 4)\n",
    "    return (x_train, y_train, x_test, y_test)"
   ]
  },
  {
   "cell_type": "code",
   "execution_count": 5,
   "id": "918b3b2e",
   "metadata": {},
   "outputs": [
    {
     "name": "stdout",
     "output_type": "stream",
     "text": [
      "Model: \"sequential\"\n",
      "_________________________________________________________________\n",
      "Layer (type)                 Output Shape              Param #   \n",
      "=================================================================\n",
      "conv2d (Conv2D)              (None, 150, 150, 32)      896       \n",
      "_________________________________________________________________\n",
      "max_pooling2d (MaxPooling2D) (None, 75, 75, 32)        0         \n",
      "_________________________________________________________________\n",
      "conv2d_1 (Conv2D)            (None, 75, 75, 64)        18496     \n",
      "_________________________________________________________________\n",
      "max_pooling2d_1 (MaxPooling2 (None, 37, 37, 64)        0         \n",
      "_________________________________________________________________\n",
      "conv2d_2 (Conv2D)            (None, 37, 37, 128)       73856     \n",
      "_________________________________________________________________\n",
      "max_pooling2d_2 (MaxPooling2 (None, 18, 18, 128)       0         \n",
      "_________________________________________________________________\n",
      "dropout (Dropout)            (None, 18, 18, 128)       0         \n",
      "_________________________________________________________________\n",
      "flatten (Flatten)            (None, 41472)             0         \n",
      "_________________________________________________________________\n",
      "dense (Dense)                (None, 256)               10617088  \n",
      "_________________________________________________________________\n",
      "dropout_1 (Dropout)          (None, 256)               0         \n",
      "_________________________________________________________________\n",
      "dense_1 (Dense)              (None, 256)               65792     \n",
      "_________________________________________________________________\n",
      "dropout_2 (Dropout)          (None, 256)               0         \n",
      "_________________________________________________________________\n",
      "dense_2 (Dense)              (None, 256)               65792     \n",
      "_________________________________________________________________\n",
      "dropout_3 (Dropout)          (None, 256)               0         \n",
      "_________________________________________________________________\n",
      "dense_3 (Dense)              (None, 4)                 1028      \n",
      "=================================================================\n",
      "Total params: 10,842,948\n",
      "Trainable params: 10,842,948\n",
      "Non-trainable params: 0\n",
      "_________________________________________________________________\n"
     ]
    }
   ],
   "source": [
    "#Build the model    \n",
    "model = tf.keras.Sequential()\n",
    "\n",
    "model.add(tf.keras.layers.Conv2D(filters=32, kernel_size=(3, 3), \n",
    "    padding = 'same', activation='relu', input_shape=(size, size, 3)))\n",
    "model.add(tf.keras.layers.MaxPooling2D(pool_size=(2,2)))\n",
    "\n",
    "\n",
    "model.add(tf.keras.layers.Conv2D(64, (3, 3), \n",
    "    padding = 'same', activation='relu'))        \n",
    "model.add(tf.keras.layers.MaxPooling2D(pool_size=(2,2)))\n",
    "\n",
    "\n",
    "model.add(tf.keras.layers.Conv2D(128, (3, 3), \n",
    "    padding = 'same', activation='relu'))        \n",
    "model.add(tf.keras.layers.MaxPooling2D(pool_size=(2,2)))  \n",
    "\n",
    "model.add(tf.keras.layers.Dropout(0.5))\n",
    "\n",
    "model.add(tf.keras.layers.Flatten())    \n",
    "model.add(tf.keras.layers.Dense(256, activation='relu'))\n",
    "model.add(tf.keras.layers.Dropout(0.25))\n",
    "model.add(tf.keras.layers.Dense(256, activation='relu')) \n",
    "model.add(tf.keras.layers.Dropout(0.25))\n",
    "model.add(tf.keras.layers.Dense(256, activation='relu'))\n",
    "model.add(tf.keras.layers.Dropout(0.25))\n",
    "model.add(tf.keras.layers.Dense(4, activation='softmax'))\n",
    "\n",
    "model.compile(loss='categorical_crossentropy',\n",
    "          optimizer='adam',\n",
    "          metrics=['accuracy'])\n",
    "model.summary()    \n",
    "    "
   ]
  },
  {
   "cell_type": "code",
   "execution_count": 7,
   "id": "ec6fed4f",
   "metadata": {},
   "outputs": [
    {
     "data": {
      "text/plain": [
       "<matplotlib.image.AxesImage at 0x2049db743a0>"
      ]
     },
     "execution_count": 7,
     "metadata": {},
     "output_type": "execute_result"
    },
    {
     "data": {
      "image/png": "[encoded data removed]",
      "text/plain": [
       "<Figure size 432x288 with 1 Axes>"
      ]
     },
     "metadata": {
      "needs_background": "light"
     },
     "output_type": "display_data"
    }
   ],
   "source": [
    "#Train the data\n",
    "x_train, y_train = load_image(train_data)\n",
    "x_test, y_test = load_image(test_data)\n",
    "\n",
    "plt.imshow(x_train[9])"
   ]
  },
  {
   "cell_type": "code",
   "execution_count": 8,
   "id": "0b60d02f",
   "metadata": {},
   "outputs": [
    {
     "name": "stdout",
     "output_type": "stream",
     "text": [
      "Epoch 1/15\n",
      "8/8 [==============================] - 6s 99ms/step - loss: 1.4808 - accuracy: 0.3167 - val_loss: 1.2882 - val_accuracy: 0.2833\n",
      "Epoch 2/15\n",
      "8/8 [==============================] - 0s 21ms/step - loss: 1.2895 - accuracy: 0.3958 - val_loss: 1.1401 - val_accuracy: 0.5500\n",
      "Epoch 3/15\n",
      "8/8 [==============================] - 0s 21ms/step - loss: 1.0835 - accuracy: 0.5917 - val_loss: 0.8436 - val_accuracy: 0.6167\n",
      "Epoch 4/15\n",
      "8/8 [==============================] - 0s 21ms/step - loss: 0.7668 - accuracy: 0.6792 - val_loss: 0.6533 - val_accuracy: 0.8333\n",
      "Epoch 5/15\n",
      "8/8 [==============================] - 0s 21ms/step - loss: 0.5621 - accuracy: 0.8208 - val_loss: 0.4895 - val_accuracy: 0.8500\n",
      "Epoch 6/15\n",
      "8/8 [==============================] - 0s 21ms/step - loss: 0.4145 - accuracy: 0.8375 - val_loss: 0.4644 - val_accuracy: 0.8667\n",
      "Epoch 7/15\n",
      "8/8 [==============================] - 0s 22ms/step - loss: 0.3017 - accuracy: 0.8917 - val_loss: 0.4336 - val_accuracy: 0.9000\n",
      "Epoch 8/15\n",
      "8/8 [==============================] - 0s 20ms/step - loss: 0.3141 - accuracy: 0.9042 - val_loss: 0.4054 - val_accuracy: 0.9167\n",
      "Epoch 9/15\n",
      "8/8 [==============================] - 0s 21ms/step - loss: 0.3577 - accuracy: 0.8958 - val_loss: 0.4343 - val_accuracy: 0.8833\n",
      "Epoch 10/15\n",
      "8/8 [==============================] - 0s 21ms/step - loss: 0.2661 - accuracy: 0.9042 - val_loss: 0.3869 - val_accuracy: 0.8667\n",
      "Epoch 11/15\n",
      "8/8 [==============================] - 0s 20ms/step - loss: 0.1484 - accuracy: 0.9500 - val_loss: 0.6465 - val_accuracy: 0.8833\n",
      "Epoch 12/15\n",
      "8/8 [==============================] - 0s 21ms/step - loss: 0.1171 - accuracy: 0.9500 - val_loss: 0.6970 - val_accuracy: 0.8833\n",
      "Epoch 13/15\n",
      "8/8 [==============================] - 0s 22ms/step - loss: 0.0580 - accuracy: 0.9833 - val_loss: 0.7505 - val_accuracy: 0.8833\n",
      "Epoch 14/15\n",
      "8/8 [==============================] - 0s 19ms/step - loss: 0.1160 - accuracy: 0.9542 - val_loss: 0.7338 - val_accuracy: 0.8667\n",
      "Epoch 15/15\n",
      "8/8 [==============================] - 0s 20ms/step - loss: 0.1747 - accuracy: 0.9500 - val_loss: 0.5116 - val_accuracy: 0.9000\n",
      "2/2 [==============================] - 0s 7ms/step - loss: 0.5116 - accuracy: 0.9000\n",
      "score = [0.5116162896156311, 0.8999999761581421]\n"
     ]
    }
   ],
   "source": [
    "#Process the data before training\n",
    "x_train = np.asarray(x_train)\n",
    "y_train = np.asarray(y_train)\n",
    "x_test = np.asarray(x_test)\n",
    "y_test = np.asarray(y_test)\n",
    "\n",
    "(x_train, y_train, x_test, y_test) = preprocess(x_train, y_train, x_test, y_test)\n",
    "\n",
    "#Train the model\n",
    "history = model.fit(x_train, y_train, \n",
    "        batch_size=32, epochs=15, verbose=1,\n",
    "        validation_data=(x_test, y_test))\n",
    "\n",
    "#Check the score\n",
    "score = model.evaluate(x_test, y_test)\n",
    "print(\"score =\", score)   "
   ]
  },
  {
   "cell_type": "code",
   "execution_count": 9,
   "id": "a9951af8",
   "metadata": {},
   "outputs": [
    {
     "data": {
      "image/png": "[encoded data removed]",
      "text/plain": [
       "<Figure size 432x288 with 1 Axes>"
      ]
     },
     "metadata": {
      "needs_background": "light"
     },
     "output_type": "display_data"
    },
    {
     "data": {
      "image/png": "[encoded data removed]",
      "text/plain": [
       "<Figure size 432x288 with 1 Axes>"
      ]
     },
     "metadata": {
      "needs_background": "light"
     },
     "output_type": "display_data"
    }
   ],
   "source": [
    "#Check the data accuracy\n",
    "acc = history.history['accuracy']\n",
    "val_acc = history.history['val_accuracy']\n",
    "loss = history.history['loss']\n",
    "val_loss = history.history['val_loss']\n",
    "\n",
    "epochs = range(1, len(acc) + 1)\n",
    "\n",
    "plt.plot(epochs, acc, 'bo', label='Training acc')\n",
    "plt.plot(epochs, val_acc, 'b', label='Validation acc')\n",
    "plt.title('Training and Validation Accuracy')\n",
    "plt.xlabel(\"Epochs\")\n",
    "plt.ylabel(\"Accuracy\")\n",
    "plt.legend()\n",
    "\n",
    "plt.figure()\n",
    "plt.plot(epochs, loss, 'bo', label='Training loss')\n",
    "plt.plot(epochs, val_loss, 'b', label='Validation loss')\n",
    "plt.title('Training and Validation Loss')\n",
    "plt.xlabel(\"Epochs\")\n",
    "plt.ylabel(\"Loss\")\n",
    "plt.legend()\n",
    "\n",
    "plt.show()"
   ]
  },
  {
   "cell_type": "code",
   "execution_count": 10,
   "id": "4f02d0d9",
   "metadata": {},
   "outputs": [
    {
     "name": "stdout",
     "output_type": "stream",
     "text": [
      "1/1 [==============================] - 0s 93ms/step - loss: 3.5763e-07 - accuracy: 1.0000\n",
      "score = [3.576278118089249e-07, 1.0]\n"
     ]
    }
   ],
   "source": [
    "#Checking for individual photo\n",
    "\n",
    "x_test0 = np.reshape(x_test[5], (1, size, size, 3))\n",
    "\n",
    "y_test0 = np.reshape(y_test[5], (1, 4))\n",
    "\n",
    "score1 = model.evaluate(x_test0, y_test0)\n",
    "print(\"score =\", score1)  "
   ]
  },
  {
   "cell_type": "code",
   "execution_count": null,
   "id": "252dba56",
   "metadata": {},
   "outputs": [],
   "source": []
  }
 ],
 "metadata": {
  "kernelspec": {
   "display_name": "Python 3",
   "language": "python",
   "name": "python3"
  },
  "language_info": {
   "codemirror_mode": {
    "name": "ipython",
    "version": 3
   },
   "file_extension": ".py",
   "mimetype": "text/x-python",
   "name": "python",
   "nbconvert_exporter": "python",
   "pygments_lexer": "ipython3",
   "version": "3.8.10"
  }
 },
 "nbformat": 4,
 "nbformat_minor": 5
}
